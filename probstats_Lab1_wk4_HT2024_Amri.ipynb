{
 "cells": [
  {
   "cell_type": "markdown",
   "id": "fa8d91bd-287c-45c8-a809-004fb34893a1",
   "metadata": {},
   "source": [
    "# ProbStats Lab1 -- HT week 4\n",
    "\n",
    "The problems in Laboratory 2 (week 4) for Probability and Statistics focus on the probability of events, specifically how those probabilities can be mathematically represented as distributions. Use this empty notebook to complete portions of the lab that require the Math, NumPy, SciPy, Matplotlib, and other Python libraries. I've loaded a few libraries to get you started."
   ]
  },
  {
   "cell_type": "code",
   "execution_count": 2,
   "id": "dc647619-0756-438b-8963-a3b56aec1948",
   "metadata": {},
   "outputs": [],
   "source": [
    "# Import Math, NumPy, SciPy, and Matplotlib\n",
    "import math as m\n",
    "import numpy as np\n",
    "import scipy as sc\n",
    "import matplotlib.pyplot as plt \n",
    "import pandas as pd"
   ]
  },
  {
   "cell_type": "markdown",
   "id": "3760cd2a-24e7-429d-ae71-c23092eb9977",
   "metadata": {},
   "source": [
    "# Q1\n",
    "\n",
    "Let’s consider how we can use probability distributions to examine the spatial distribution of objects. A\n",
    "busy squirrel lives in your back garden and has divided the garden into 576 grid cells, each 0.25 m2 in size.\n",
    "This busy squirrel spends every October Saturday burying acorns, and the squirrel records the distribution of\n",
    "acorns they bury in the garden (so that they can eat them next spring, of course!), with the following number\n",
    "of grid cells showing k acorns: 229 cells with 0 acorns; 211 cells with 1 acorns, 93 cells with 2 acorns, 35 cells\n",
    "with 3 acorns, 7 cells with 4 acorns, and 1 cell with 7 acorns. Does this busy squirrel bury at random, or is\n",
    "there some clustering pattern to their treasure trove of acorns? \n",
    "\n",
    "## Q1a\n",
    "\n",
    "To gain practice in loading data into Jupyter Notebooks from external files, compose a comma-delimited text file that records the data summarized above as a two-column array. Load this dataset\n",
    "into your Jupyter Notebook. \n",
    "\n",
    "\n",
    "## Q1b\n",
    "\n",
    "Calculate the total number of acorns with a single line of code. \n",
    "\n",
    "## Q1c\n",
    "\n",
    "Plot a bar plot showing the empirical distribution of acorns, expressed as the number of grid squares\n",
    "marked by 0, 1, 2 . . . n acorns. Label your axes appropriately. \n",
    "\n",
    "\n",
    "## Q1d\n",
    "\n",
    "Calculate the density parameter μ for the dataset. \n",
    "\n",
    "## Q1e\n",
    "\n",
    "Using your answer from above, calculate the expected distribution of acorns(i.e., the expected number\n",
    "of cells with 0, 1, 2, . . . n acorns) under the Poisson as a tool to examine the empirical distribution.\n",
    "As with last week’s binomial exercise, do so with as little code as possible and without resorting to\n",
    "any NumPy functions for the Poisson distribution. \n",
    "\n",
    "## Q1f\n",
    "\n",
    "Plot these expectations in a bar plot, and compare this to the bar plot you generated for (c). Compare\n",
    "your two plots, and discuss any differences or similarities. Does the busy squirrel bury these acorns\n",
    "at random, or did they spatially cluster their acorns? What would you conclude in the light of your\n",
    "analysis?\n"
   ]
  },
  {
   "cell_type": "code",
   "execution_count": 4,
   "id": "a3a8d032-8cee-4eba-bf88-f6d034e6a0c4",
   "metadata": {},
   "outputs": [
    {
     "name": "stdout",
     "output_type": "stream",
     "text": [
      "17\n"
     ]
    }
   ],
   "source": [
    "#Q1b\n",
    "total_acorns = pd.read_csv('squirrelnumbers.csv')['Number of Acorns'].sum()\n",
    "print(total_acorns)"
   ]
  },
  {
   "cell_type": "code",
   "execution_count": 5,
   "id": "cc0de024-991f-4f4a-bfd5-38ef57a8e730",
   "metadata": {},
   "outputs": [
    {
     "name": "stdout",
     "output_type": "stream",
     "text": [
      "Number of Acorns,Number of Grid Cells\n",
      "0,229\n",
      "1,211\n",
      "2,93\n",
      "3,35\n",
      "4,7\n",
      "7,1"
     ]
    }
   ],
   "source": [
    "!head ../Week12/squirrelnumbers.csv"
   ]
  },
  {
   "cell_type": "code",
   "execution_count": 9,
   "id": "7f724d62-fdfe-47bd-ba9f-34afc6d89589",
   "metadata": {},
   "outputs": [
    {
     "data": {
      "image/png": "[encoded data removed]",
      "text/plain": [
       "<Figure size 640x480 with 1 Axes>"
      ]
     },
     "metadata": {},
     "output_type": "display_data"
    }
   ],
   "source": [
    "#Q1c\n",
    "data = np.loadtxt('../Week12/squirrelnumbers.csv', delimiter=',', skiprows=1)\n",
    "no_of_acorns = data[:, 0]\n",
    "how_many_cells  = data[:, 1]\n",
    "fig, ax = plt.subplots()\n",
    "\n",
    "ax.bar(no_of_acorns, how_many_cells , color='red')\n",
    "ax.set_xlabel('Number of Acorns')\n",
    "ax.set_ylabel('Number of Grid Cells')\n",
    "ax.set_title('empirical distribution of acorns')\n",
    "\n",
    "plt.show()"
   ]
  },
  {
   "cell_type": "code",
   "execution_count": 21,
   "id": "e368cde1-b14a-4059-975a-f466dd7544e6",
   "metadata": {},
   "outputs": [
    {
     "name": "stdout",
     "output_type": "stream",
     "text": [
      "0.9322916666666667\n",
      "[0.0, 0.3663194444444444, 0.3229166666666667, 0.18229166666666666, 0.04861111111111111, 0.0, 0.0, 0.012152777777777776]\n",
      "[0.3975694444444444, 0.3663194444444444, 0.16145833333333334, 0.06076388888888889, 0.012152777777777778, 0.0, 0.0, 0.001736111111111111]\n",
      "576\n"
     ]
    }
   ],
   "source": [
    "#Q1d\n",
    "no_of_acorns=np.array([0,1,2,3,4,5,6,7])\n",
    "no_of_cells=np.array([229,211,93,35,7,0,0,1])\n",
    "sum_of_cells=sum(no_of_cells)\n",
    "probabilities=[]\n",
    "for x in no_of_cells:\n",
    "    probabilities.append((x)/sum_of_cells)\n",
    "parameter_count=[]\n",
    "for acorn,prob in zip(no_of_acorns,probabilities):\n",
    "    parameter_count.append(acorn*prob)\n",
    "\n",
    "print(sum(parameter_count))\n",
    "print(parameter_count)\n",
    "print(probabilities)\n",
    "print(sum_of_cells)"
   ]
  },
  {
   "cell_type": "markdown",
   "id": "6257a207-2760-4847-8153-8e4f12573bb3",
   "metadata": {},
   "source": [
    "### Q1e\n",
    "\n",
    "$P\\left( x \\right) = \\frac{{e^{ - \\lambda } \\lambda ^x }}{{x!}}$\n",
    "\n",
    "$\\lambda= np$\n",
    "\n",
    "$P\\left( 0 \\right) = 0.39365$\n",
    "\n",
    "$P\\left( 1 \\right) = 0.36699$\n",
    "\n",
    "$P\\left(2 \\right) = 0.17107$\n",
    "\n",
    "$P\\left( 3 \\right) = 0.05316$\n",
    "\n",
    "$P\\left( 4 \\right) = 0.01239$\n",
    "\n",
    "$P\\left( 5 \\right) = 0.00231$\n",
    "\n",
    "$P\\left( 6 \\right) = 0.00035$\n",
    "\n",
    "$P\\left( 7 \\right) = 0.00004$\n"
   ]
  },
  {
   "cell_type": "code",
   "execution_count": 12,
   "id": "88326114-17af-4539-bb68-b1af5ee1c469",
   "metadata": {},
   "outputs": [
    {
     "data": {
      "image/png": "[encoded data removed]",
      "text/plain": [
       "<Figure size 640x480 with 1 Axes>"
      ]
     },
     "metadata": {},
     "output_type": "display_data"
    },
    {
     "data": {
      "image/png": "[encoded data removed]",
      "text/plain": [
       "<Figure size 1000x400 with 2 Axes>"
      ]
     },
     "metadata": {},
     "output_type": "display_data"
    }
   ],
   "source": [
    "#Q1f\n",
    "\n",
    "\n",
    "no_acorns = np.array([0, 1, 2, 3, 4, 5, 6, 7])\n",
    "no_cells = np.array([229, 211, 93, 35, 7, 0, 0, 1])\n",
    "\n",
    "\n",
    "total_cells = np.sum(no_cells)\n",
    "\n",
    "\n",
    "estimated_mean = np.sum(no_acorns * no_cells) / total_cells\n",
    "\n",
    "\n",
    "expected_distribution = []\n",
    "for x in no_acorns:\n",
    "    probability = np.exp(-estimated_mean) * (estimated_mean ** x) / m.factorial(x)\n",
    "    expected_distribution.append(probability * total_cells)\n",
    "\n",
    "\n",
    "plt.bar(no_acorns, no_cells, color='blue', label='Observed')\n",
    "plt.bar(no_acorns, expected_distribution, color='orange', label='Expected')\n",
    "plt.xlabel('Number of Acorns')\n",
    "plt.ylabel('Frequency')\n",
    "plt.title('Comparison of Observed and Expected Distribution of Acorns')\n",
    "plt.legend()\n",
    "plt.show()\n",
    "\n",
    "\n",
    "fig, axs = plt.subplots(1, 2, figsize=(10, 4))\n",
    "\n",
    "# Plot observed distribution\n",
    "axs[0].bar(no_acorns, no_cells, color='blue')\n",
    "axs[0].set_xlabel('Number of Acorns')\n",
    "axs[0].set_ylabel('Frequency')\n",
    "axs[0].set_title('Observed Distribution of Acorns')\n",
    "\n",
    "# Plot expected distribution\n",
    "axs[1].bar(no_acorns, expected_distribution, color='orange', alpha=0.5)\n",
    "axs[1].set_xlabel('Number of Acorns')\n",
    "axs[1].set_ylabel('Frequency')\n",
    "axs[1].set_title('Expected Distribution of Acorns')\n",
    "\n",
    "# Adjust layout\n",
    "plt.tight_layout()\n",
    "plt.show()\n",
    "\n",
    "#From the charts, the acorns appear to be randomly distributed"
   ]
  },
  {
   "cell_type": "markdown",
   "id": "ddca7165-34ed-4cbd-8a56-30d8eaff6dae",
   "metadata": {},
   "source": [
    "# Q2\n",
    "\n",
    "The longevity of taxa (species, genera, families, and so on) is a function of extinction rates. The observed\n",
    "stratigraphic ranges of fossil organisms are complicated by incomplete preservation; for the present exercise,\n",
    "we will assume that rates of fossilization are sufficiently high that stratigraphic ranges can be taken as true\n",
    "evolutionary durations.\n",
    "Consider the following dataset, which gives taxonomic ranges (in number of stage-level stratigraphic bins)\n",
    "for a cohort of ammonite families that make their earliest appearance in the fossil record in the Induan and\n",
    "Olenekian, the first two stages following the devastating Permo-Triassic event, which is thought to have\n",
    "resulted in the extinction of roughly 95% of species living in marine environments.\n",
    "Ammonite ranges (stage-level intervals): 1, 1, 1, 1, 1, 1, 2, 3, 6, 6, 1, 1, 2, 2, 1, 1, 4, 3, 2, 1, 1, 1, 1, 1, 1, 2, 1, 4.\n",
    "Note that these data assume positive integer values (i.e., there are no fractional durations). These kinds of\n",
    "discrete ranges are common in palaeobiological data, since absolute ages are not available for many\n",
    "stratigraphic subdivisions. \n",
    "\n",
    "## Q2a\n",
    "\n",
    "Which probability distribution do you think might be an appropriate model for examining these\n",
    "random variables? Why? \n",
    "\n",
    "Geometric- number of trials before first event occurs- in this case trials=bins, event=extinction \n",
    "or Poisson - good for random, discrete data in fixed units of time\n",
    "## Q2b\n",
    "\n",
    "What is the modal taxonomic range? Explain why this is so in light of your response to the previous\n",
    "question.\n",
    "\n",
    "Modal taxonomic range is 1. We expect most of the families to be present for a short amount of time.\n",
    "\n",
    "## Q2c\n",
    "\n",
    "Calculate mean of these data. From this, and what you learned in lecture, estimate p, the probability\n",
    "of extinction per stratigraphic interval. \n",
    "\n",
    "## Q2d\n",
    "\n",
    "Find the standard deviation (√variance) of the distribution you suspect might describe these\n",
    "stratigraphic range data. You were not given the standard deviation of the geometric distribution in\n",
    "lecture, but you should be able to find this equation in one of the course textbooks or via an online\n",
    "search. Does the observed standard deviation of the ranges match what you might predict, based on\n",
    "your responses to parts (a)-(c)? You should calculate standard deviation using a built-in NumPy\n",
    "function. In light of your discovery, explain whether or not you think your preferred distribution is a\n",
    "reasonable model for these data. \n",
    "\n",
    "## Q2e\n",
    "\n",
    "It is often claimed that groups appearing during the earliest phases of the Cambrian radiation of\n",
    "animals were evolutionarily volatile, meaning that they were characterized by high rates of turnover.\n",
    "Several explanations have been offered as explanations for this putative pattern, ranging from\n",
    "increasing developmental constraint to the maturation of complex ecosystems. Before entertaining\n",
    "such hypotheses, it’s worth examining whether or not turnover—which we’ll approximate here using\n",
    "extinction rate—is really higher for taxa that arose early in the Cambrian. Below are two datasets\n",
    "comprising stratigraphic ranges of trilobites, ancient arthropods related to modern creatures like crabs,\n",
    "insects, and spiders. The first dataset is for a cohort of trilobite families appearing in the very earliest\n",
    "Cambrian, while the second is for those families making their debut in the latest Cambrian. Data from\n",
    "The Fossil Record 2 (1993).\n",
    "Earliest Cambrian trilobite cohort (stage-level intervals): 1, 1, 1, 1, 1, 1, 1, 1, 1, 1, 1, 1, 1, 1, 2, 1, 1, 1,\n",
    "1, 1, 1, 1, 2, 1, 1, 3, 2, 3, 2, 2, 9, 3, 2, 1, 3, 3, 1, 1, 1, 2, 2, 2, 2, 3, 2, 2, 5, 4, 2.\n",
    "Latest Cambrian trilobite cohort (stage-level intervals): 1, 1, 1, 1, 1, 17, 1, 15, 1, 1, 1, 1, 2, 1, 7, 4, 2,\n",
    "1, 1, 5, 1, 1, 1, 1, 1, 7, 5, 1, 1, 1, 7, 3, 6, 3, 1, 1, 1, 1, 1.\n",
    "What is your estimate of extinction rate for each of these two examples? Are your answers consistent\n",
    "or at odds with the prevailing hypothesis about declining rates of extinction? "
   ]
  },
  {
   "cell_type": "code",
   "execution_count": 18,
   "id": "d5aabe14-42d3-4b68-a930-af6053f8b80c",
   "metadata": {},
   "outputs": [
    {
     "name": "stdout",
     "output_type": "stream",
     "text": [
      "Mean: 1.8928571428571428\n",
      "0.5283018867924528\n"
     ]
    }
   ],
   "source": [
    "#Q2c\n",
    "\n",
    "taxonomic_ranges = [1, 1, 1, 1, 1, 1, 2, 3, 6, 6, 1, 1, 2, 2, 1, 1, 4, 3, 2, 1, 1, 1, 1, 1, 1, 2, 1, 4]\n",
    "\n",
    "mean_taxonomic_range = np.mean(taxonomic_ranges)\n",
    "print(\"Mean:\", mean_taxonomic_range)\n",
    "\n",
    "#Mean=1/p\n",
    "#p=1/mean\n",
    "\n",
    "P=1/(mean_taxonomic_range)\n",
    "print(P)"
   ]
  },
  {
   "cell_type": "code",
   "execution_count": 25,
   "id": "3427c0ac-afce-40e1-8d9b-01c64e6e5a8a",
   "metadata": {},
   "outputs": [
    {
     "name": "stdout",
     "output_type": "stream",
     "text": [
      "Expected standard deviation: 1.3000196230858068\n",
      "Observed standard deviation-geo: 1.4476405856793746\n"
     ]
    }
   ],
   "source": [
    "#Q2d\n",
    "#variance=(1-p)/p2\n",
    "standard_deviation = np.sqrt((1 - P) / P**2)\n",
    "print('Expected standard deviation:', standard_deviation)\n",
    "\n",
    "observed_std_dev = np.std(taxonomic_ranges)\n",
    "print(\"Observed standard deviation-geo:\", observed_std_dev)\n",
    "\n",
    "#observed and expected are 0.1 apart, which is quite close, so geometric distribution could be a good fit"
   ]
  },
  {
   "cell_type": "code",
   "execution_count": 24,
   "id": "8d47a3c8-e2ab-457f-83f5-22f92f2d7198",
   "metadata": {},
   "outputs": [
    {
     "name": "stdout",
     "output_type": "stream",
     "text": [
      "Observed standard deviation-Poisson: 1.3758114488755873\n"
     ]
    }
   ],
   "source": [
    "#Comparing with Poission,\n",
    "#Mean=variance\n",
    "stdev_test=np.sqrt(mean_taxonomic_range)\n",
    "print(\"Observed standard deviation-Poisson:\",stdev_test)\n",
    "\n",
    "#observed and expected are 0.07 apart, which is even closer, so Poisson distribution could be a better fit"
   ]
  },
  {
   "cell_type": "code",
   "execution_count": 27,
   "id": "51fa73ed-512a-41a1-ae08-cdf7d3372f1f",
   "metadata": {},
   "outputs": [
    {
     "name": "stdout",
     "output_type": "stream",
     "text": [
      "Extinction rate for earliest Cambrian trilobites: 1.816326530612245\n",
      "Extinction rate for latest Cambrian trilobites: 2.7948717948717947\n"
     ]
    }
   ],
   "source": [
    "#Q2e\n",
    "\n",
    "earliest_cambrian_trilobites = [1, 1, 1, 1, 1, 1, 1, 1, 1, 1, 1, 1, 1, 1, 2, 1, 1, 1, 1, 1, 1, 1, 2, 1, 1, 3, 2, 3, 2, 2, 9, 3, 2, 1, 3, 3, 1, 1, 1, 2, 2, 2, 2, 3, 2, 2, 5, 4, 2]\n",
    "\n",
    "mean_earliest_cambrian = np.mean(earliest_cambrian_trilobites)\n",
    "print(\"Extinction rate for earliest Cambrian trilobites:\", mean_earliest_cambrian)\n",
    "\n",
    "\n",
    "\n",
    "latest_cambrian_trilobites = [1, 1, 1, 1, 1, 17, 1, 15, 1, 1, 1, 1, 2, 1, 7, 4, 2, 1, 1, 5, 1, 1, 1, 1, 1, 7, 5, 1, 1, 1, 7, 3, 6, 3, 1, 1, 1, 1, 1]\n",
    "\n",
    "mean_latest_cambrian = np.mean(latest_cambrian_trilobites)\n",
    "print(\"Extinction rate for latest Cambrian trilobites:\", mean_latest_cambrian)\n",
    "\n",
    "#Extinction in earlier tribolites happened quicker, in line with the prevailing hypothesis"
   ]
  },
  {
   "cell_type": "markdown",
   "id": "4edff235-7861-49f9-906e-2902d70037e1",
   "metadata": {},
   "source": [
    "# Q3\n",
    "\n",
    " Geologists often examine the mineral composition of sand to determine probable provenance. The more\n",
    "distinctive composition a sand has, the easier it is for geologists to pinpoint the source rock from which that\n",
    "sand may have eroded from. A hypothesized source rock has fragmented bivalve shells making up 4.9% of all\n",
    "grains (by count, rather than by volume). You’ve got a modest sample of 63 sand grains from a beach, and\n",
    "you find that 6 of the grains are fragments of bivalve shell. \n",
    "\n",
    "## Q3a\n",
    "\n",
    "If the sand is indeed from the hypothesized source rock, what is the chance of observing this exact\n",
    "outcome?\n",
    "\n",
    "## Q3b\n",
    "\n",
    "What is the probability that a sample of 63 grains from the beach will contain 6 or more fragments of\n",
    "bivalve shell? In doing so, you should perform your calculations on the shortest array possible, and\n",
    "not resort to any NumPy functions for the binomial distribution.\n",
    "\n",
    "## Q3c\n",
    "\n",
    "Now calculate the same quantity using a single line of code and the function scipy.stats.binom.pmf().\n",
    "Describe, in words, what this function does. Make sure your numerical answer agrees with your\n",
    "previous response. \n",
    "\n",
    "## Q3d\n",
    "\n",
    "Now calculate the same quantity using a single line of code and the function scipy.stats.binom.cdf().\n",
    "Describe, in words, what this function does. How is this different from scipy.stats.binom.pmf()?\n",
    "Make sure all of your probabilities agree. \n",
    "\n",
    "## Q3e\n",
    "\n",
    "In light of your calculations, what do you think of the provenance of your sand sample? Does it likely\n",
    "derive from the hypothesized source rock? "
   ]
  },
  {
   "cell_type": "markdown",
   "id": "4c6b4db2-c4a1-47c6-87bf-50d7cfd62b2b",
   "metadata": {},
   "source": [
    "### Q3a\n",
    "\n",
    "Binomial formula =$ \\sum_{k=0}^n \\binom{n}{k} p^k (1-p)^{n-k}$\n",
    "\n",
    "where $n=63$, $p=0.049$ and $k=6$\n",
    "\n",
    "Probability = 0.0536\n"
   ]
  },
  {
   "cell_type": "markdown",
   "id": "4f88a829-0e85-45cd-baf6-3fb50afe5805",
   "metadata": {},
   "source": [
    "### Q3b\n",
    "$P\\left( x>=6 \\right) = 1- P\\left( x<6\\right) = 1-0.91221=0.08779$"
   ]
  },
  {
   "cell_type": "code",
   "execution_count": 34,
   "id": "0cd0eebb-5c69-4cfb-85cc-82eb67ba6a96",
   "metadata": {},
   "outputs": [
    {
     "name": "stdout",
     "output_type": "stream",
     "text": [
      "0.08778260210429042\n"
     ]
    }
   ],
   "source": [
    "#Q3c\n",
    "probability = 1 - sc.stats.binom.pmf(5, 63, 0.049)-sc.stats.binom.pmf(4, 63, 0.049)-sc.stats.binom.pmf(3, 63, 0.049)-sc.stats.binom.pmf(2, 63, 0.049)-sc.stats.binom.pmf(1, 63, 0.049)-sc.stats.binom.pmf(0, 63, 0.049)\n",
    "print(probability)"
   ]
  },
  {
   "cell_type": "code",
   "execution_count": 32,
   "id": "676689ef-dc27-40a6-ba71-4a848cde5978",
   "metadata": {},
   "outputs": [
    {
     "name": "stdout",
     "output_type": "stream",
     "text": [
      "0.08778260210429079\n"
     ]
    }
   ],
   "source": [
    "#Q3d\n",
    "probability1 = 1 - sc.stats.binom.cdf(5, 63, 0.049)\n",
    "print(probability1)"
   ]
  },
  {
   "cell_type": "markdown",
   "id": "c4245c21-16ec-43bb-8b99-bc130dfce65e",
   "metadata": {},
   "source": [
    "PMF= probability of getting exactly k successes in n trials, CDF = probability of getting at most k successes in n trials."
   ]
  },
  {
   "cell_type": "markdown",
   "id": "457c94a2-8d90-4ba8-bef3-8396cc8f8eba",
   "metadata": {},
   "source": [
    "### Q3e\n",
    "\n",
    "There is less than 1% probability to get 6 fragments out of 63 grains"
   ]
  }
 ],
 "metadata": {
  "kernelspec": {
   "display_name": "Python 3 (ipykernel)",
   "language": "python",
   "name": "python3"
  },
  "language_info": {
   "codemirror_mode": {
    "name": "ipython",
    "version": 3
   },
   "file_extension": ".py",
   "mimetype": "text/x-python",
   "name": "python",
   "nbconvert_exporter": "python",
   "pygments_lexer": "ipython3",
   "version": "3.10.13"
  }
 },
 "nbformat": 4,
 "nbformat_minor": 5
}
